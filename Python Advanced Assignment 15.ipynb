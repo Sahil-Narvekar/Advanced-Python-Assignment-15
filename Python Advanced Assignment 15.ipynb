{
 "cells": [
  {
   "cell_type": "code",
   "execution_count": null,
   "metadata": {},
   "outputs": [],
   "source": [
    "1. What are the new features added in Python 3.8 version?"
   ]
  },
  {
   "cell_type": "code",
   "execution_count": null,
   "metadata": {},
   "outputs": [],
   "source": [
    " Introduction of assignment expressions. They are written using a new notation (:=).\n",
    "The assignment expression allows you to assign True to walrus, and immediately print the value. "
   ]
  },
  {
   "cell_type": "code",
   "execution_count": 7,
   "metadata": {},
   "outputs": [
    {
     "name": "stdout",
     "output_type": "stream",
     "text": [
      "False True\n"
     ]
    }
   ],
   "source": [
    "walrus=False\n",
    "print((walrus),walrus:=True)"
   ]
  },
  {
   "cell_type": "code",
   "execution_count": null,
   "metadata": {},
   "outputs": [],
   "source": [
    "The new version of Python offers a way to specify parameters that can only accept either positional or \n",
    "keyword argument using syntax / and * for separation.\n",
    "In the following example, the first two parameters a and b are positional-only, the middle two c and d\n",
    "can be positional or keyword, and the last two e and f are keyword-only."
   ]
  },
  {
   "cell_type": "code",
   "execution_count": null,
   "metadata": {},
   "outputs": [],
   "source": [
    "def my_func(a, b, /, c, d, *, e, f):\n",
    "    return a+b+c+d+e+f\n",
    "  \n",
    "my_func(1,2,3,4,5,6)        \n",
    "my_func(a=1,b=2,3,4,e=5,f=6) \n",
    "my_func(1,2,3,d=4,e=5,f=6)   \n",
    "my_func(1,2,c=3,d=4,e=5,f=6)  "
   ]
  },
  {
   "cell_type": "code",
   "execution_count": null,
   "metadata": {},
   "outputs": [],
   "source": [
    "The new update enables the using equal sign = as a format specifier in expressions inside f-strings\n",
    "with syntax f'{expr=}'. The output string will include both the variable name and its value, with an \n",
    "equal sign in between = as shown below."
   ]
  },
  {
   "cell_type": "code",
   "execution_count": 30,
   "metadata": {},
   "outputs": [
    {
     "name": "stdout",
     "output_type": "stream",
     "text": [
      "π equals 3.\n",
      "pi=3\n"
     ]
    }
   ],
   "source": [
    "pi = 3 \n",
    "print(f'π equals {pi}.') \n",
    "print(f'{pi=}')          \n"
   ]
  },
  {
   "cell_type": "code",
   "execution_count": null,
   "metadata": {},
   "outputs": [],
   "source": [
    "Dictionaries are now iterable in reversed insertion order using reversed()."
   ]
  },
  {
   "cell_type": "code",
   "execution_count": null,
   "metadata": {},
   "outputs": [],
   "source": [
    "2. What is monkey patching in Python?"
   ]
  },
  {
   "cell_type": "code",
   "execution_count": null,
   "metadata": {},
   "outputs": [],
   "source": [
    "In Monkey patching, we reopen the existing classes or methods in class at runtime and alters the behavior\n",
    ". As Python is a dynamic programming language, Classes are mutable so you can reopen them and modify or \n",
    "even replace them.It is often used to replace or extends a method on the module or class level with a\n",
    "custom implementation."
   ]
  },
  {
   "cell_type": "code",
   "execution_count": 19,
   "metadata": {},
   "outputs": [],
   "source": [
    "class monkeypatch():\n",
    "    def __init__(self,num):\n",
    "        self.num=num\n",
    "    def addition(self,others):\n",
    "        return self.num + others"
   ]
  },
  {
   "cell_type": "code",
   "execution_count": 25,
   "metadata": {},
   "outputs": [
    {
     "data": {
      "text/plain": [
       "20"
      ]
     },
     "execution_count": 25,
     "metadata": {},
     "output_type": "execute_result"
    }
   ],
   "source": [
    "obj=monkeypatch(10)\n",
    "obj.addition(10)               "
   ]
  },
  {
   "cell_type": "code",
   "execution_count": 29,
   "metadata": {},
   "outputs": [
    {
     "data": {
      "text/plain": [
       "(25, 15)"
      ]
     },
     "execution_count": 29,
     "metadata": {},
     "output_type": "execute_result"
    }
   ],
   "source": [
    "def subtraction(self,others):\n",
    "    return self.num-others\n",
    "monkeypatch.subtraction=subtraction\n",
    "obj1=monkeypatch(20)\n",
    "obj1.addition(5),obj1.subtraction(5)"
   ]
  },
  {
   "cell_type": "code",
   "execution_count": 23,
   "metadata": {},
   "outputs": [],
   "source": [
    "Now how we add the above method to the MonkeyPatch class, simply just place subtraction function into\n",
    "MonkeyPatch class with an assignment statement, as below -monkeypatch.subtraction=subtraction"
   ]
  },
  {
   "cell_type": "code",
   "execution_count": 24,
   "metadata": {},
   "outputs": [],
   "source": [
    "3. What is the difference between a shallow copy and deep copy?"
   ]
  },
  {
   "cell_type": "code",
   "execution_count": null,
   "metadata": {},
   "outputs": [],
   "source": [
    "The difference between shallow and deep copying is only relevant for compound objects (objects that\n",
    "contain other objects, like lists or class instances):\n",
    "A shallow copy constructs a new compound object and then (to the extent possible) inserts references into\n",
    "it to the objects found in the original.\n",
    "It means that any changes made to a copy of object do reflect in the original object. \n",
    "In python, this is implemented using “copy()” function.\n",
    "\n",
    "A deep copy constructs a new compound object and then, recursively, inserts copies into it of the objects\n",
    "found in the original.\n",
    "It means that any changes made to a copy of object do not reflect in the original object. In python,\n",
    "this is implemented using “deepcopy()” function.\n"
   ]
  },
  {
   "cell_type": "code",
   "execution_count": 40,
   "metadata": {},
   "outputs": [
    {
     "name": "stdout",
     "output_type": "stream",
     "text": [
      "[1, [2, 5], 4]   [1, [2, 5], 4]   [1, [2, 3], 4]   False\n"
     ]
    }
   ],
   "source": [
    "import copy\n",
    "a=[1,[2,3],4]\n",
    "a_s=copy.copy(a)\n",
    "a_d=copy.deepcopy(a)\n",
    "a[1][1]=5\n",
    "print(a,' ',a_s,' ',a_d,' ',a_s==a_d)"
   ]
  },
  {
   "cell_type": "code",
   "execution_count": null,
   "metadata": {},
   "outputs": [],
   "source": [
    "When we changed the value of nested element a[1][1]=5 the change was observed in  shallow copy but not in \n",
    "deep copy."
   ]
  },
  {
   "cell_type": "code",
   "execution_count": null,
   "metadata": {},
   "outputs": [],
   "source": [
    "4. What is the maximum possible length of an identifier?"
   ]
  },
  {
   "cell_type": "code",
   "execution_count": null,
   "metadata": {},
   "outputs": [],
   "source": [
    "The maximum possible length of an identifier in Python is 79 characters.\n",
    "Python is case sensitive, especially when dealing with the identifiers. \n",
    "It has a limit of 79 characters while writing or using identifiers in Python.\n",
    "Unlikely, Python offers unlimited length for the identifiers.\n",
    "But, PEP-8 structure restricts the user from violating the rules and gives the limit of 79 characters.\n",
    "Python is a high level programming language. It is also dynamic type and Garbage collector."
   ]
  },
  {
   "cell_type": "code",
   "execution_count": null,
   "metadata": {},
   "outputs": [],
   "source": [
    "5. What is generator comprehension?"
   ]
  },
  {
   "cell_type": "code",
   "execution_count": 71,
   "metadata": {},
   "outputs": [
    {
     "data": {
      "text/plain": [
       "0"
      ]
     },
     "execution_count": 71,
     "metadata": {},
     "output_type": "execute_result"
    }
   ],
   "source": [
    "p=(n for n in m if n%2==0)\n",
    "next(p)"
   ]
  },
  {
   "cell_type": "code",
   "execution_count": 72,
   "metadata": {},
   "outputs": [
    {
     "data": {
      "text/plain": [
       "2"
      ]
     },
     "execution_count": 72,
     "metadata": {},
     "output_type": "execute_result"
    }
   ],
   "source": [
    "next(p)"
   ]
  },
  {
   "cell_type": "code",
   "execution_count": null,
   "metadata": {},
   "outputs": [],
   "source": [
    "Generator, which allows us to generate arbitrarily-many items in a series, without having to store them all\n",
    "in memory at once.\n",
    "The syntax (<expression> for <var> in <iterable> [if <condition>]) \n",
    "specifies the general form for a generator comprehension."
   ]
  }
 ],
 "metadata": {
  "kernelspec": {
   "display_name": "Python 3",
   "language": "python",
   "name": "python3"
  },
  "language_info": {
   "codemirror_mode": {
    "name": "ipython",
    "version": 3
   },
   "file_extension": ".py",
   "mimetype": "text/x-python",
   "name": "python",
   "nbconvert_exporter": "python",
   "pygments_lexer": "ipython3",
   "version": "3.8.3"
  }
 },
 "nbformat": 4,
 "nbformat_minor": 4
}
